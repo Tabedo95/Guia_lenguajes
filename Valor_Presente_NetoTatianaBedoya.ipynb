{
  "nbformat": 4,
  "nbformat_minor": 0,
  "metadata": {
    "colab": {
      "provenance": [],
      "authorship_tag": "ABX9TyMYarMgRQvKGr17jwfCQs0e",
      "include_colab_link": true
    },
    "kernelspec": {
      "name": "python3",
      "display_name": "Python 3"
    },
    "language_info": {
      "name": "python"
    }
  },
  "cells": [
    {
      "cell_type": "markdown",
      "metadata": {
        "id": "view-in-github",
        "colab_type": "text"
      },
      "source": [
        "<a href=\"https://colab.research.google.com/github/Tabedo95/Guia_lenguajes/blob/main/Valor_Presente_NetoTatianaBedoya.ipynb\" target=\"_parent\"><img src=\"https://colab.research.google.com/assets/colab-badge.svg\" alt=\"Open In Colab\"/></a>"
      ]
    },
    {
      "cell_type": "markdown",
      "source": [],
      "metadata": {
        "id": "OO4gSOEBxdLZ"
      }
    },
    {
      "cell_type": "markdown",
      "source": [
        "# Valor Presente Neto (VPN).\n",
        "El **VPN** es una medida financiera que te permite evaluar la viabilidad de un proyecto, calculando la diferencia entre el valor presente de los flujos de caja futuros y la inversión inicial. Si el **VPN** es positivo, el proyecto es rentable; si es negativo, no lo es.\n",
        "\n",
        "\n"
      ],
      "metadata": {
        "id": "NN_ymrxTyDoH"
      }
    },
    {
      "cell_type": "markdown",
      "source": [
        "## Formula VPN.\n",
        "$$ VPN= \\sum_{t=0}^{n} \\frac{C_t}{(1+r)^t} - C_0 $$\n",
        "\n",
        "\n",
        "Donde:\n",
        " - $F_{\\text{t}}$ es el flujo de caja en el periodo t.\n",
        " - r es la tasa de descuento.\n",
        " - $C_{\\text{0}}$ es la inversión inicial.\n",
        "\n"
      ],
      "metadata": {
        "id": "_ibE3ECv1Kit"
      }
    },
    {
      "cell_type": "markdown",
      "source": [
        "### Descripción del proyecto.\n",
        "Supomgamos que la empresa está considerando un proyecto con una inversión inial de 10.000 y espera recibir flujos de caja de 3.000 en cada uno de los proximos tres años. La tasa de descuento es del 5%.\n",
        ""
      ],
      "metadata": {
        "id": "AYiRUTUZ4EC2"
      }
    },
    {
      "cell_type": "code",
      "source": [
        "#Definición de variables.\n",
        "\n",
        "inversion_inicial = 10000\n",
        "flujo_ano_1 = 3000\n",
        "flujo_ano_2 = 3000\n",
        "flujo_ano_3 = 3000\n",
        "tasa_descuento = 0.05"
      ],
      "metadata": {
        "id": "frhMP39W5wcT"
      },
      "execution_count": 12,
      "outputs": []
    },
    {
      "cell_type": "code",
      "source": [
        "vpn=((flujo_ano_1/(1+tasa_descuento)**1)+\\\n",
        "     (flujo_ano_2/(1+tasa_descuento)**2)+\\\n",
        "     (flujo_ano_3/(1+tasa_descuento)**3))-inversion_inicial\n",
        "\n",
        "print(\"EL Valor Presente Neto\", vpn)"
      ],
      "metadata": {
        "colab": {
          "base_uri": "https://localhost:8080/"
        },
        "id": "AQLrbmo6_UbY",
        "outputId": "dc07c6fe-1101-4a5d-861f-d9e2d8232503"
      },
      "execution_count": 20,
      "outputs": [
        {
          "output_type": "stream",
          "name": "stdout",
          "text": [
            "EL Valor Presente Neto -1830.2559118885656\n"
          ]
        }
      ]
    },
    {
      "cell_type": "code",
      "source": [
        "#Interpretación del resultado\n",
        "\n",
        "if vpn > 0:\n",
        "    print(\"El proyecto es rentable.\")\n",
        "else:\n",
        "    print(\"El proyecto no es rentable.\")"
      ],
      "metadata": {
        "colab": {
          "base_uri": "https://localhost:8080/"
        },
        "id": "Dd4Op0kTAb-E",
        "outputId": "dc1c101c-2e22-44b0-dc9d-b2191cb64576"
      },
      "execution_count": 21,
      "outputs": [
        {
          "output_type": "stream",
          "name": "stdout",
          "text": [
            "El proyecto no es rentable.\n"
          ]
        }
      ]
    }
  ]
}